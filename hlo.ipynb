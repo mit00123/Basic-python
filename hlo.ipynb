{
 "cells": [
  {
   "cell_type": "code",
   "execution_count": 2,
   "id": "0aacdf19",
   "metadata": {},
   "outputs": [],
   "source": [
    "import numpy as np"
   ]
  },
  {
   "cell_type": "code",
   "execution_count": null,
   "id": "4d08e089",
   "metadata": {},
   "outputs": [
    {
     "name": "stdout",
     "output_type": "stream",
     "text": [
      "   Numbers\n",
      "0        1\n",
      "1        2\n",
      "2        3\n"
     ]
    }
   ],
   "source": [
    "import numpy as np\n",
    "import pandas as pd\n",
    "\n",
    "data = np.array([1, 2, 3])\n",
    "df = pd.DataFrame(data, columns=['Numbers'])\n",
    "\n",
    "def test_dataframe():\n",
    "    assert isinstance(df, pd.DataFrame), \"df should be a pandas DataFrame\"\n",
    "    assert df.shape == (3, 1), \"df should have 3 rows and 1 column\"\n",
    "    assert list(df.columns) == ['Numbers'], \"Column name should be 'Numbers'\"\n",
    "    assert np.array_equal(df['Numbers'].values, data), \"Data in the DataFrame should match the original array\"\n",
    "\n",
    "def test_dataframe_values():\n"
   ]
  }
 ],
 "metadata": {
  "kernelspec": {
   "display_name": "Python 3",
   "language": "python",
   "name": "python3"
  },
  "language_info": {
   "codemirror_mode": {
    "name": "ipython",
    "version": 3
   },
   "file_extension": ".py",
   "mimetype": "text/x-python",
   "name": "python",
   "nbconvert_exporter": "python",
   "pygments_lexer": "ipython3",
   "version": "3.13.1"
  }
 },
 "nbformat": 4,
 "nbformat_minor": 5
}
